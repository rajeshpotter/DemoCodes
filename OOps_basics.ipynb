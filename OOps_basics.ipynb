{
 "cells": [
  {
   "cell_type": "code",
   "execution_count": 29,
   "id": "f4ad1078",
   "metadata": {},
   "outputs": [],
   "source": [
    "class A:\n",
    "    msg=\"I love Python\"\n",
    "    def __init__(self,name):\n",
    "        self.name=name\n",
    "    def __str__(self):\n",
    "        return self.name\n",
    "    def get_name(self):\n",
    "        return self.name\n",
    "    def set_name(self,name):\n",
    "        self.name=name\n",
    "    #----------class methods------------------\n",
    "    @classmethod\n",
    "    def get_msg(cls):\n",
    "        print(cls.msg)\n",
    "    @classmethod\n",
    "    def set_msg(cls,new_msg):\n",
    "        cls.msg=new_msg\n",
    "    "
   ]
  },
  {
   "cell_type": "code",
   "execution_count": 12,
   "id": "1590809f",
   "metadata": {},
   "outputs": [
    {
     "data": {
      "text/plain": [
       "'I want to marry with harshita'"
      ]
     },
     "execution_count": 12,
     "metadata": {},
     "output_type": "execute_result"
    }
   ],
   "source": [
    "c=A('rajesh')\n",
    "c.get_name()\n",
    "c.set_name('Ranveer')\n",
    "c.get_name()\n",
    "c.set_msg('I want to become a Programer')\n",
    "c.get_msg()"
   ]
  },
  {
   "cell_type": "code",
   "execution_count": 31,
   "id": "2253cbfe",
   "metadata": {},
   "outputs": [
    {
     "name": "stdout",
     "output_type": "stream",
     "text": [
      "How are you!\n"
     ]
    }
   ],
   "source": [
    "rajesh=A('Rajesh')\n",
    "Ranveer=A('Ranveer')\n",
    "\n",
    "rajesh.set_msg('How are you!')\n",
    "Ranveer.get_msg()\n",
    "Ranveer.set_msg('Fine, you say?')"
   ]
  },
  {
   "cell_type": "code",
   "execution_count": 32,
   "id": "71b69f8d",
   "metadata": {},
   "outputs": [
    {
     "name": "stdout",
     "output_type": "stream",
     "text": [
      "Fine, you say?\n"
     ]
    }
   ],
   "source": [
    "rajesh.get_msg()"
   ]
  },
  {
   "cell_type": "code",
   "execution_count": 33,
   "id": "a8e60e0e",
   "metadata": {},
   "outputs": [],
   "source": [
    "rajesh.set_msg('nothing special , doing work and code and sleep')"
   ]
  },
  {
   "cell_type": "code",
   "execution_count": 34,
   "id": "2509c08b",
   "metadata": {},
   "outputs": [
    {
     "name": "stdout",
     "output_type": "stream",
     "text": [
      "nothing special , doing work and code and sleep\n"
     ]
    }
   ],
   "source": [
    "Ranveer.get_msg()"
   ]
  },
  {
   "cell_type": "code",
   "execution_count": 23,
   "id": "296f3602",
   "metadata": {},
   "outputs": [],
   "source": [
    "Ranveer.set_msg('I love you Rajesh')"
   ]
  },
  {
   "cell_type": "code",
   "execution_count": 35,
   "id": "8edf0f78",
   "metadata": {},
   "outputs": [
    {
     "name": "stdout",
     "output_type": "stream",
     "text": [
      "nothing special , doing work and code and sleep\n"
     ]
    }
   ],
   "source": [
    "rajesh.get_msg()"
   ]
  },
  {
   "cell_type": "code",
   "execution_count": 25,
   "id": "e09c6c9f",
   "metadata": {},
   "outputs": [],
   "source": [
    "rajesh.set_msg('Really?')"
   ]
  },
  {
   "cell_type": "code",
   "execution_count": 36,
   "id": "7a0df2c0",
   "metadata": {},
   "outputs": [
    {
     "name": "stdout",
     "output_type": "stream",
     "text": [
      "nothing special , doing work and code and sleep\n"
     ]
    }
   ],
   "source": [
    "Ranveer.get_msg()"
   ]
  },
  {
   "cell_type": "code",
   "execution_count": 27,
   "id": "fd35b639",
   "metadata": {},
   "outputs": [],
   "source": [
    "Ranveer.set_msg('NO its joking, i am just emotional and said whatever i think sorry rajesh?')"
   ]
  },
  {
   "cell_type": "code",
   "execution_count": 37,
   "id": "7159be11",
   "metadata": {},
   "outputs": [
    {
     "name": "stdout",
     "output_type": "stream",
     "text": [
      "nothing special , doing work and code and sleep\n"
     ]
    }
   ],
   "source": [
    "rajesh.get_msg()"
   ]
  },
  {
   "cell_type": "code",
   "execution_count": 38,
   "id": "ccbc21d5",
   "metadata": {},
   "outputs": [
    {
     "name": "stdout",
     "output_type": "stream",
     "text": [
      "nothing special , doing work and code and sleep\n"
     ]
    }
   ],
   "source": [
    "A.get_msg()"
   ]
  },
  {
   "cell_type": "code",
   "execution_count": 39,
   "id": "d12bd8f9",
   "metadata": {},
   "outputs": [],
   "source": [
    "A.set_msg(\"love only Coding\")"
   ]
  },
  {
   "cell_type": "code",
   "execution_count": null,
   "id": "f88509c5",
   "metadata": {},
   "outputs": [],
   "source": [
    "A.get_msg()"
   ]
  },
  {
   "cell_type": "code",
   "execution_count": null,
   "id": "ab39ac50",
   "metadata": {},
   "outputs": [],
   "source": []
  },
  {
   "cell_type": "code",
   "execution_count": 3,
   "id": "22dc5ec4",
   "metadata": {},
   "outputs": [],
   "source": [
    "#lex_auth_012751124968554496166\n",
    "#Start writing your code here\n",
    "class Classroom:\n",
    "    classroom_list=[]\n",
    "    def __init__(self,name):\n",
    "        Classroom.classroom_list.append(self.name)\n",
    "    @staticmethod\n",
    "    def search_classroom(class_room):\n",
    "        class_room=str(class_room)\n",
    "        if class_room in Classroom.classroom_list:\n",
    "            return \"Found\"\n",
    "        else:\n",
    "            return -1"
   ]
  },
  {
   "cell_type": "code",
   "execution_count": null,
   "id": "da31ea9b",
   "metadata": {},
   "outputs": [],
   "source": [
    "cls=Classroom('rajesh')"
   ]
  },
  {
   "cell_type": "code",
   "execution_count": null,
   "id": "ef538552",
   "metadata": {},
   "outputs": [],
   "source": []
  },
  {
   "cell_type": "code",
   "execution_count": 3,
   "id": "a8ac124e",
   "metadata": {},
   "outputs": [
    {
     "ename": "IndentationError",
     "evalue": "expected an indented block (Temp/ipykernel_2416/672248267.py, line 11)",
     "output_type": "error",
     "traceback": [
      "\u001b[1;36m  File \u001b[1;32m\"C:\\Users\\erraj\\AppData\\Local\\Temp/ipykernel_2416/672248267.py\"\u001b[1;36m, line \u001b[1;32m11\u001b[0m\n\u001b[1;33m    class Bill:\u001b[0m\n\u001b[1;37m               ^\u001b[0m\n\u001b[1;31mIndentationError\u001b[0m\u001b[1;31m:\u001b[0m expected an indented block\n"
     ]
    }
   ],
   "source": [
    "class Customer:\n",
    "    def __init__(self,customer_name):\n",
    "        self.__customer_name=customer_name\n",
    "        self.__payment_status=None\n",
    "    def pays_bill(bill):\n",
    "        pass\n",
    "    def get_customer_name(self):\n",
    "        return self.__customer_name\n",
    "    def get_payment_status(self):\n",
    "        return self.__payment_status\n",
    "class Bill:\n",
    "    counter=1000\n",
    "    def __init__(self):\n",
    "        self.__bill_id=None\n",
    "        self.__bill_amount=None\n",
    "        self.counter=Bill.counter+1\n",
    "        Bill.counter+=1\n",
    "        \n",
    "    def generate_bill_amount(self,item_quantity,items):\n",
    "        bill_amount=0\n",
    "        for item in items:\n",
    "            if item_quantity.keys()==item.get_item_id():\n",
    "                self.__bill_id='B'+(str(count))\n",
    "                bill_amount+=item.get_price_per_quantity()*value\n",
    "            else:\n",
    "                self.__bill_amount=0\n",
    "    def get_bill_id(self):\n",
    "        return self.__bill_id\n",
    "    def get_bill_amount(self):\n",
    "        return self.__bill_amount\n",
    "class Item:\n",
    "    def __init__(self,description,price_per_quantity):\n",
    "        self.__item_id=None\n",
    "        self.__description=description\n",
    "        self.__price_per_quantity=None\n",
    "    def set_item_id(self,item_id):\n",
    "        self.__item_id=item_id\n",
    "    def get_item_id(self):\n",
    "        return self.__item_id\n",
    "    def get_description(self):\n",
    "        return self.__description\n",
    "    def get_price_per_quantity(self):\n",
    "        return self.__price_per_quantity\n",
    "    "
   ]
  },
  {
   "cell_type": "code",
   "execution_count": 5,
   "id": "ef5f6859",
   "metadata": {},
   "outputs": [],
   "source": [
    "#lex_auth_012770830108426240532\n",
    "#Start writing your code here\n",
    "class Customer:\n",
    "    def __init__(self,customer_name):\n",
    "        self.__customer_name=customer_name\n",
    "        self.__payment_status=None\n",
    "    def pays_bill(self,bill):\n",
    "        pass\n",
    "    def get_customer_name(self):\n",
    "        return self.__customer_name\n",
    "    def get_payment_status(self):\n",
    "        return self.__payment_status\n",
    "class Bill:\n",
    "    counter=1000\n",
    "    def __init__(self):\n",
    "        self.__bill_id=None\n",
    "        self.__bill_amount=None\n",
    "        self.counter=Bill.counter+1\n",
    "        Bill.counter+=1\n",
    "        \n",
    "    def generate_bill_amount(self,item_quantity,items):\n",
    "        bill_amount=0\n",
    "        if len(self.items)==len(item_quantity):\n",
    "            for item in items:\n",
    "                if item_quantity.keys()==item.get_item_id():\n",
    "                    self.__bill_id='B'+(str(count))\n",
    "                    bill_amount+=item.get_price_per_quantity()*item_quantity.values()\n",
    "                else:\n",
    "                    bill_amount=0\n",
    "            self.__bill_amount=bill_amount\n",
    "        else: \n",
    "            self.__bill_amount=0\n",
    "    def get_bill_id(self):\n",
    "        return self.__bill_id\n",
    "    def get_bill_amount(self):\n",
    "        return self.__bill_amount\n",
    "class Item:\n",
    "    def __init__(self,item_id,description,price_per_quantity):\n",
    "        self.__item_id=item_id\n",
    "        self.__description=description\n",
    "        self.__price_per_quantity=price_per_quantity\n",
    "    def get_item_id(self):\n",
    "        return self.__item_id\n",
    "    def get_description(self):\n",
    "        return self.__description\n",
    "    def get_price_per_quantity(self):\n",
    "        return self.__price_per_quantity\n",
    "    "
   ]
  },
  {
   "cell_type": "code",
   "execution_count": null,
   "id": "33cab7dc",
   "metadata": {},
   "outputs": [],
   "source": []
  },
  {
   "cell_type": "code",
   "execution_count": null,
   "id": "5ad8287d",
   "metadata": {},
   "outputs": [],
   "source": []
  },
  {
   "cell_type": "code",
   "execution_count": null,
   "id": "3aa41e39",
   "metadata": {},
   "outputs": [],
   "source": []
  },
  {
   "cell_type": "code",
   "execution_count": null,
   "id": "d8a71127",
   "metadata": {},
   "outputs": [],
   "source": []
  },
  {
   "cell_type": "code",
   "execution_count": 4,
   "id": "deb8851a",
   "metadata": {},
   "outputs": [
    {
     "name": "stdout",
     "output_type": "stream",
     "text": [
      "rajesh 12\n",
      "harshita 14\n",
      "muskan 12\n"
     ]
    }
   ],
   "source": [
    "dictionary={'rajesh':12,'harshita':14,'muskan':12}\n",
    "for key,value in dictionary.items():\n",
    "    print(key,value)"
   ]
  },
  {
   "cell_type": "code",
   "execution_count": 16,
   "id": "887f3096",
   "metadata": {},
   "outputs": [],
   "source": [
    "def check_num(n):\n",
    "\n",
    "    num=str(n)\n",
    "    for i in range(0,len(num)-1):\n",
    "        diff=abs(int(num[i])-int(num[i+1]))\n",
    "        \n",
    "    if diff==1:\n",
    "        return True\n",
    "    else:\n",
    "        return False"
   ]
  },
  {
   "cell_type": "code",
   "execution_count": 17,
   "id": "83664001",
   "metadata": {},
   "outputs": [],
   "source": [
    "class Solution:\n",
    "    @staticmethod\n",
    "    def check_num(n):\n",
    "        num=str(n)\n",
    "        for i in range(0,len(num)-1):\n",
    "            diff=abs(int(num[i])-int(num[i+1]))\n",
    "            if diff==1:\n",
    "                return True\n",
    "            else:\n",
    "                return False\n",
    "        \n",
    "    def absDifOne(self, N):\n",
    "        list_num=[]\n",
    "        if n>9:\n",
    "            for num in range(10,n+1):\n",
    "                if Solution.check_num(num):\n",
    "                    list_num.append(num)\n",
    "        else:\n",
    "            list_num.append(-1)\n",
    "        return list_num"
   ]
  },
  {
   "cell_type": "code",
   "execution_count": 3,
   "id": "b85e9e47",
   "metadata": {},
   "outputs": [
    {
     "data": {
      "text/plain": [
       "[1, 2, 3, 4, 5, 6, 9]"
      ]
     },
     "execution_count": 3,
     "metadata": {},
     "output_type": "execute_result"
    }
   ],
   "source": [
    "num=[1,4,5,2,3,9 ,6]\n",
    "num.sort()\n",
    "num"
   ]
  },
  {
   "cell_type": "code",
   "execution_count": 38,
   "id": "d6377e77",
   "metadata": {},
   "outputs": [
    {
     "ename": "ValueError",
     "evalue": "2 is not in list",
     "output_type": "error",
     "traceback": [
      "\u001b[1;31m---------------------------------------------------------------------------\u001b[0m",
      "\u001b[1;31mValueError\u001b[0m                                Traceback (most recent call last)",
      "\u001b[1;32m~\\AppData\\Local\\Temp/ipykernel_5892/3914161711.py\u001b[0m in \u001b[0;36m<module>\u001b[1;34m\u001b[0m\n\u001b[0;32m     16\u001b[0m \u001b[0mnums\u001b[0m \u001b[1;33m=\u001b[0m \u001b[1;33m[\u001b[0m\u001b[1;36m2\u001b[0m\u001b[1;33m,\u001b[0m\u001b[1;36m7\u001b[0m\u001b[1;33m,\u001b[0m\u001b[1;36m11\u001b[0m\u001b[1;33m,\u001b[0m\u001b[1;36m15\u001b[0m\u001b[1;33m]\u001b[0m\u001b[1;33m\u001b[0m\u001b[1;33m\u001b[0m\u001b[0m\n\u001b[0;32m     17\u001b[0m \u001b[0mtarget\u001b[0m \u001b[1;33m=\u001b[0m \u001b[1;36m9\u001b[0m\u001b[1;33m\u001b[0m\u001b[1;33m\u001b[0m\u001b[0m\n\u001b[1;32m---> 18\u001b[1;33m \u001b[0mtwosum\u001b[0m\u001b[1;33m(\u001b[0m\u001b[0mnums\u001b[0m\u001b[1;33m,\u001b[0m\u001b[0mtarget\u001b[0m\u001b[1;33m)\u001b[0m\u001b[1;33m\u001b[0m\u001b[1;33m\u001b[0m\u001b[0m\n\u001b[0m\u001b[0;32m     19\u001b[0m \u001b[0mvalue_list\u001b[0m\u001b[1;33m\u001b[0m\u001b[1;33m\u001b[0m\u001b[0m\n",
      "\u001b[1;32m~\\AppData\\Local\\Temp/ipykernel_5892/3914161711.py\u001b[0m in \u001b[0;36mtwosum\u001b[1;34m(num, target)\u001b[0m\n\u001b[0;32m      7\u001b[0m         \u001b[0mfind_num\u001b[0m\u001b[1;33m=\u001b[0m\u001b[0mtarget\u001b[0m\u001b[1;33m-\u001b[0m\u001b[0mvalue\u001b[0m\u001b[1;33m\u001b[0m\u001b[1;33m\u001b[0m\u001b[0m\n\u001b[0;32m      8\u001b[0m         \u001b[1;32mif\u001b[0m \u001b[0mfind_num\u001b[0m \u001b[1;32min\u001b[0m \u001b[0mupdate_num\u001b[0m\u001b[1;33m:\u001b[0m\u001b[1;33m\u001b[0m\u001b[1;33m\u001b[0m\u001b[0m\n\u001b[1;32m----> 9\u001b[1;33m             \u001b[0mlst\u001b[0m\u001b[1;33m.\u001b[0m\u001b[0mappend\u001b[0m\u001b[1;33m(\u001b[0m\u001b[0mnum\u001b[0m\u001b[1;33m.\u001b[0m\u001b[0mindex\u001b[0m\u001b[1;33m(\u001b[0m\u001b[0mvalue\u001b[0m\u001b[1;33m)\u001b[0m\u001b[1;33m)\u001b[0m\u001b[1;33m\u001b[0m\u001b[1;33m\u001b[0m\u001b[0m\n\u001b[0m\u001b[0;32m     10\u001b[0m             \u001b[0mlst\u001b[0m\u001b[1;33m.\u001b[0m\u001b[0mappend\u001b[0m\u001b[1;33m(\u001b[0m\u001b[0mupdate_num\u001b[0m\u001b[1;33m.\u001b[0m\u001b[0mindex\u001b[0m\u001b[1;33m(\u001b[0m\u001b[0mfind_num\u001b[0m\u001b[1;33m)\u001b[0m\u001b[1;33m)\u001b[0m\u001b[1;33m\u001b[0m\u001b[1;33m\u001b[0m\u001b[0m\n\u001b[0;32m     11\u001b[0m             \u001b[0mnum\u001b[0m\u001b[1;33m.\u001b[0m\u001b[0mremove\u001b[0m\u001b[1;33m(\u001b[0m\u001b[0mvalue\u001b[0m\u001b[1;33m)\u001b[0m\u001b[1;33m\u001b[0m\u001b[1;33m\u001b[0m\u001b[0m\n",
      "\u001b[1;31mValueError\u001b[0m: 2 is not in list"
     ]
    }
   ],
   "source": [
    "def twosum(num,target):\n",
    "    lst=[]\n",
    "    num.sort()\n",
    "    for value in num:\n",
    "        update_num=num\n",
    "        update_num.remove(value)\n",
    "        find_num=target-value\n",
    "        if find_num in update_num:\n",
    "            lst.append(num.index(value))\n",
    "            lst.append(update_num.index(find_num))\n",
    "            num.remove(value)\n",
    "        if value==target:\n",
    "            break\n",
    "            \n",
    "    return lst\n",
    "nums = [2,7,11,15]\n",
    "target = 9\n",
    "twosum(nums,target)\n",
    "value_list"
   ]
  },
  {
   "cell_type": "code",
   "execution_count": 92,
   "id": "5a8c5061",
   "metadata": {},
   "outputs": [],
   "source": [
    "def twosum(num,target):\n",
    "    lst=[]\n",
    "    num.sort()\n",
    "    index=0\n",
    "    while index <len(num):\n",
    "        print(index)\n",
    "        index2=index+1\n",
    "        while index2<len(num):\n",
    "            sum=0\n",
    "            print(index,index2)\n",
    "            sum=num[index]+num[index2]\n",
    "            if sum==target:\n",
    "                print(index,index2)\n",
    "                lst.append(index)\n",
    "                lst.append(index2)\n",
    "                \n",
    "            index2+=1\n",
    "        index+=1\n",
    "    return lst"
   ]
  },
  {
   "cell_type": "code",
   "execution_count": 103,
   "id": "4e91a479",
   "metadata": {},
   "outputs": [],
   "source": [
    "def twosum(num,target):\n",
    "    lst=[]\n",
    "    num.sort()\n",
    "    index=0\n",
    "    for index in range(0,len(num)):\n",
    "        index2=index+1\n",
    "        for index2 in range(index2,len(num)):\n",
    "            sum=num[index]+num[index2]\n",
    "            if sum == target:\n",
    "                print(sum,\"=\",num[index],\"+\",num[index2],index,index2)\n",
    "                lst.append(index)\n",
    "                lst.append(index2)\n",
    "                \n",
    "            index2+=1\n",
    "        index+=1\n",
    "    return lst"
   ]
  },
  {
   "cell_type": "code",
   "execution_count": 104,
   "id": "20cfb3d4",
   "metadata": {},
   "outputs": [
    {
     "name": "stdout",
     "output_type": "stream",
     "text": [
      "2\n",
      "6 = 2 + 4 0 2\n"
     ]
    },
    {
     "data": {
      "text/plain": [
       "[0, 2]"
      ]
     },
     "execution_count": 104,
     "metadata": {},
     "output_type": "execute_result"
    }
   ],
   "source": [
    "nums = [3,2,4]\n",
    "print(nums[1])\n",
    "target = 6\n",
    "twosum(nums,target)"
   ]
  },
  {
   "cell_type": "code",
   "execution_count": 13,
   "id": "9cfbb31a",
   "metadata": {},
   "outputs": [],
   "source": [
    "class A:\n",
    "    __instance=None\n",
    "    def __new__(cls):\n",
    "        if A.__instance==None:\n",
    "            self = super(cls,A).__new__(cls)\n",
    "            A.__instance=self\n",
    "            return self\n",
    "        else:\n",
    "            return A.__instance\n",
    "    def __init__(self,name):\n",
    "            self.name=name"
   ]
  },
  {
   "cell_type": "code",
   "execution_count": 14,
   "id": "296084aa",
   "metadata": {},
   "outputs": [
    {
     "ename": "TypeError",
     "evalue": "__new__() takes 1 positional argument but 2 were given",
     "output_type": "error",
     "traceback": [
      "\u001b[1;31m---------------------------------------------------------------------------\u001b[0m",
      "\u001b[1;31mTypeError\u001b[0m                                 Traceback (most recent call last)",
      "\u001b[1;32m~\\AppData\\Local\\Temp/ipykernel_16356/2344281133.py\u001b[0m in \u001b[0;36m<module>\u001b[1;34m\u001b[0m\n\u001b[1;32m----> 1\u001b[1;33m \u001b[0ma\u001b[0m\u001b[1;33m=\u001b[0m\u001b[0mA\u001b[0m\u001b[1;33m(\u001b[0m\u001b[1;34m'Rajesh'\u001b[0m\u001b[1;33m)\u001b[0m\u001b[1;33m\u001b[0m\u001b[1;33m\u001b[0m\u001b[0m\n\u001b[0m",
      "\u001b[1;31mTypeError\u001b[0m: __new__() takes 1 positional argument but 2 were given"
     ]
    }
   ],
   "source": [
    "a=A('Rajesh')"
   ]
  },
  {
   "cell_type": "code",
   "execution_count": 41,
   "id": "f3c0f634",
   "metadata": {},
   "outputs": [],
   "source": [
    "class Solution:\n",
    "    def isValid(self, s: str) -> bool:\n",
    "        valid_str=[\"()\",\"{}\",\"[]\"]\n",
    "        i=0\n",
    "        while i<len(s)-1:\n",
    "            if s[i]+s[i+1] in valid_str:\n",
    "                if i==(len(s)-2):\n",
    "                    print(\"true\")\n",
    "                i+=2\n",
    "                \n",
    "            else:\n",
    "                print(\"false\")\n",
    "                break\n",
    "            "
   ]
  },
  {
   "cell_type": "code",
   "execution_count": 51,
   "id": "351dbe4d",
   "metadata": {
    "scrolled": true
   },
   "outputs": [
    {
     "name": "stdout",
     "output_type": "stream",
     "text": [
      "true\n"
     ]
    }
   ],
   "source": [
    "s=Solution()\n",
    "s.isValid(\"()[]{}\")"
   ]
  },
  {
   "cell_type": "code",
   "execution_count": 102,
   "id": "25cb6979",
   "metadata": {},
   "outputs": [],
   "source": [
    "class Solution:\n",
    "    def isValid(self, s: str) -> bool:\n",
    "        valid_str=[\"()\",\"{}\",\"[]\"]\n",
    "        \n",
    "        while i: \n",
    "            if \"()\" in s or \"[]\" in s or \"{}\" in s:\n",
    "                s.replace(\"()\",\"\")\n",
    "                s.replace(\"[]\",\"\")\n",
    "                s.replace(\"{}\",\"\")\n",
    "                \n",
    "            elif s!=0:\n",
    "                i=0\n",
    "                return \"false\"\n",
    "            else:\n",
    "                i\n",
    "                return \"true\"\n",
    "            "
   ]
  }
 ],
 "metadata": {
  "kernelspec": {
   "display_name": "Python 3 (ipykernel)",
   "language": "python",
   "name": "python3"
  },
  "language_info": {
   "codemirror_mode": {
    "name": "ipython",
    "version": 3
   },
   "file_extension": ".py",
   "mimetype": "text/x-python",
   "name": "python",
   "nbconvert_exporter": "python",
   "pygments_lexer": "ipython3",
   "version": "3.9.7"
  }
 },
 "nbformat": 4,
 "nbformat_minor": 5
}
